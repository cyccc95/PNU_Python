{
  "nbformat": 4,
  "nbformat_minor": 0,
  "metadata": {
    "colab": {
      "provenance": [],
      "toc_visible": true
    },
    "kernelspec": {
      "name": "python3",
      "display_name": "Python 3"
    },
    "language_info": {
      "name": "python"
    }
  },
  "cells": [
    {
      "cell_type": "code",
      "execution_count": null,
      "metadata": {
        "colab": {
          "base_uri": "https://localhost:8080/"
        },
        "id": "wGBKJk-mRh82",
        "outputId": "164f316e-c78d-4f3a-8b52-9f68dd616883"
      },
      "outputs": [
        {
          "output_type": "stream",
          "name": "stdout",
          "text": [
            "[1, 2, 3, 4, 5, 6]\n"
          ]
        }
      ],
      "source": [
        "x = [1,2,3,4,5,6]\n",
        "print(x)"
      ]
    },
    {
      "cell_type": "code",
      "source": [
        "for x in [1,2,3,4]:\n",
        "  print(x)\n",
        "print(x+x)"
      ],
      "metadata": {
        "colab": {
          "base_uri": "https://localhost:8080/"
        },
        "id": "pBysYVYPTS8u",
        "outputId": "a4b38eee-939f-4a8a-8717-f6148af75c10"
      },
      "execution_count": null,
      "outputs": [
        {
          "output_type": "stream",
          "name": "stdout",
          "text": [
            "1\n",
            "2\n",
            "3\n",
            "4\n",
            "8\n"
          ]
        }
      ]
    },
    {
      "cell_type": "code",
      "source": [
        "x = 7\n",
        "if x%7==0:\n",
        "  print(x,\"는 7의 배수입니다.\")\n"
      ],
      "metadata": {
        "colab": {
          "base_uri": "https://localhost:8080/"
        },
        "id": "-laL-kDBT4ZI",
        "outputId": "03a87f68-26c4-44e1-bb8b-53c7c93510b8"
      },
      "execution_count": null,
      "outputs": [
        {
          "output_type": "stream",
          "name": "stdout",
          "text": [
            "7 는 7의 배수입니다.\n"
          ]
        }
      ]
    },
    {
      "cell_type": "code",
      "source": [
        "for x in range(10):\n",
        "  print(x)"
      ],
      "metadata": {
        "colab": {
          "base_uri": "https://localhost:8080/"
        },
        "id": "RMRiyaoOUt-Z",
        "outputId": "77909d2c-ac19-4e1e-eea9-05057c33f065"
      },
      "execution_count": null,
      "outputs": [
        {
          "output_type": "stream",
          "name": "stdout",
          "text": [
            "0\n",
            "1\n",
            "2\n",
            "3\n",
            "4\n",
            "5\n",
            "6\n",
            "7\n",
            "8\n",
            "9\n"
          ]
        }
      ]
    },
    {
      "cell_type": "code",
      "source": [
        "for x in range(1,101):\n",
        "  if x%7==0:\n",
        "    print(x,\"는 7의 배수입니다.\")"
      ],
      "metadata": {
        "colab": {
          "base_uri": "https://localhost:8080/"
        },
        "id": "EW_XVQhbVBzY",
        "outputId": "65d9f898-fddd-4aeb-b954-c92795c9deef"
      },
      "execution_count": null,
      "outputs": [
        {
          "output_type": "stream",
          "name": "stdout",
          "text": [
            "7 는 7의 배수입니다.\n",
            "14 는 7의 배수입니다.\n",
            "21 는 7의 배수입니다.\n",
            "28 는 7의 배수입니다.\n",
            "35 는 7의 배수입니다.\n",
            "42 는 7의 배수입니다.\n",
            "49 는 7의 배수입니다.\n",
            "56 는 7의 배수입니다.\n",
            "63 는 7의 배수입니다.\n",
            "70 는 7의 배수입니다.\n",
            "77 는 7의 배수입니다.\n",
            "84 는 7의 배수입니다.\n",
            "91 는 7의 배수입니다.\n",
            "98 는 7의 배수입니다.\n"
          ]
        }
      ]
    },
    {
      "cell_type": "code",
      "source": [
        "x = round((50 + 45 + 33 + 39 + 29 + 30) / 6, 1)\n",
        "print(x)"
      ],
      "metadata": {
        "colab": {
          "base_uri": "https://localhost:8080/"
        },
        "id": "ZxbENbp4WNjJ",
        "outputId": "a86522b0-837c-4017-bd94-c8657fedac14"
      },
      "execution_count": null,
      "outputs": [
        {
          "output_type": "stream",
          "name": "stdout",
          "text": [
            "37.7\n"
          ]
        }
      ]
    },
    {
      "cell_type": "code",
      "source": [
        "import math\n",
        "math.ceil(567/7)\n",
        "#math.floor(567/7)"
      ],
      "metadata": {
        "colab": {
          "base_uri": "https://localhost:8080/"
        },
        "id": "jbFZl5TOWfY-",
        "outputId": "ae0b00c9-7129-4944-c6e3-c7a65907bd38"
      },
      "execution_count": null,
      "outputs": [
        {
          "output_type": "execute_result",
          "data": {
            "text/plain": [
              "81"
            ]
          },
          "metadata": {},
          "execution_count": 24
        }
      ]
    },
    {
      "cell_type": "code",
      "source": [
        "c = 29\n",
        "f = (c - 32) * 5 / 9\n",
        "#print(f)\n",
        "print(f\"섭씨 {c} 도는 화씨 {f:.2f} 도입니다.\")"
      ],
      "metadata": {
        "colab": {
          "base_uri": "https://localhost:8080/"
        },
        "id": "zgCbcRGRWz6X",
        "outputId": "e60ea18f-59db-44d0-b001-1d9bab69acae"
      },
      "execution_count": null,
      "outputs": [
        {
          "output_type": "stream",
          "name": "stdout",
          "text": [
            "섭씨 29 도는 화씨 -1.67 도입니다.\n"
          ]
        }
      ]
    },
    {
      "cell_type": "code",
      "source": [
        "for i in range(2,20):\n",
        "  for j in range(2,20):\n",
        "    print(f\"{i}X{j}={i*j}\")"
      ],
      "metadata": {
        "id": "Wab8T8XXW94_"
      },
      "execution_count": null,
      "outputs": []
    },
    {
      "cell_type": "code",
      "source": [
        "a = input('떡볶이는 몇 그릇 팔았나요?')\n",
        "b = input('라면은 몇 그릇 팔았나요?')\n",
        "c = input('튀김은 몇 개 팔았나요?')\n",
        "print('-----<오늘의 매출 정산>-----')\n",
        "print('떡볶이의 매출: %d원' %(int(a) * 2000))\n",
        "print('라면의 매출: %d원' %(int(b) * 3000))\n",
        "print('튀김의 매출: %d원' %(int(c) * 500))\n",
        "print('오늘의 총 매출은 %d원입니다' %(int(a)*2000 + int(b)*3000 + int(c)*500))\n"
      ],
      "metadata": {
        "colab": {
          "base_uri": "https://localhost:8080/"
        },
        "id": "b8d3qg5VXU-_",
        "outputId": "0b8a55e4-9dc7-4fc7-da17-9dac1d42bac4"
      },
      "execution_count": null,
      "outputs": [
        {
          "output_type": "stream",
          "name": "stdout",
          "text": [
            "떡볶이는 몇 그릇 팔았나요?43\n",
            "라면은 몇 그릇 팔았나요?62\n",
            "튀김은 몇 개 팔았나요?89\n",
            "-----<오늘의 매출 정산>-----\n",
            "떡볶이의 매출: 86000원\n",
            "라면의 매출: 186000원\n",
            "튀김의 매출: 44500원\n",
            "오늘의 총 매출은 316500원입니다\n"
          ]
        }
      ]
    },
    {
      "cell_type": "code",
      "source": [
        "money = input('투입한 돈은?')\n",
        "a = input('1구간 표의 수는?')\n",
        "b = input('2구간 표의 수는?')\n",
        "change = int(money) - (int(a)*1300 + int(b)*1500)\n",
        "print('잔돈: %d 원' %int(change))\n",
        "print('1000원 지폐: %d 장' %(change // 1000))\n",
        "print('100원 동전: %d 개' %(change % 1000 // 100)) "
      ],
      "metadata": {
        "colab": {
          "base_uri": "https://localhost:8080/"
        },
        "id": "VoAqaDmCZ1O2",
        "outputId": "f7910085-5a3f-4aff-d1c7-d91e9ace1a46"
      },
      "execution_count": null,
      "outputs": [
        {
          "output_type": "stream",
          "name": "stdout",
          "text": [
            "투입한 돈은?10000\n",
            "1구간 표의 수는?3\n",
            "2구간 표의 수는?1\n",
            "잔돈: 4600 원\n",
            "1000원 지폐: 4 장\n",
            "100원 동전: 6 개\n"
          ]
        }
      ]
    },
    {
      "cell_type": "code",
      "source": [
        "def service_price():\n",
        "  i = input('서비스 종류를 입력하세요, a/b/c:')\n",
        "  if i=='a':\n",
        "    i = 23\n",
        "  if i=='b':\n",
        "    i = 40\n",
        "  if i=='c':\n",
        "    i = 67\n",
        "  j = input('부사게를 포함합니까? y/n:')\n",
        "  if j=='y':\n",
        "    i *= 1.1\n",
        "  print(f\"{i}만 원입니다\")\n",
        "service_price()\n",
        "\n"
      ],
      "metadata": {
        "colab": {
          "base_uri": "https://localhost:8080/"
        },
        "id": "rBJSgUfybCof",
        "outputId": "7b90b155-790d-4cc1-bce9-ebef6d961022"
      },
      "execution_count": null,
      "outputs": [
        {
          "output_type": "stream",
          "name": "stdout",
          "text": [
            "서비스 종류를 입력하세요, a/b/c:c\n",
            "부사게를 포함합니까? y/n:n\n",
            "67만 원입니다\n"
          ]
        }
      ]
    },
    {
      "cell_type": "code",
      "source": [
        "print(14 % 4)"
      ],
      "metadata": {
        "colab": {
          "base_uri": "https://localhost:8080/"
        },
        "id": "aeUwtZwxcxHe",
        "outputId": "0c263335-d1e9-46c4-abb2-028632c9707c"
      },
      "execution_count": null,
      "outputs": [
        {
          "output_type": "stream",
          "name": "stdout",
          "text": [
            "2\n"
          ]
        }
      ]
    },
    {
      "cell_type": "code",
      "source": [
        "round(1.12345, 2)"
      ],
      "metadata": {
        "colab": {
          "base_uri": "https://localhost:8080/"
        },
        "id": "eRbF_RDleUVM",
        "outputId": "22a7c1db-4da6-4c95-a34c-055fc4c70add"
      },
      "execution_count": null,
      "outputs": [
        {
          "output_type": "execute_result",
          "data": {
            "text/plain": [
              "1.12"
            ]
          },
          "metadata": {},
          "execution_count": 37
        }
      ]
    },
    {
      "cell_type": "code",
      "source": [
        "a = input('나이를 입력하세요: ')\n",
        "print(40 - int(a))"
      ],
      "metadata": {
        "colab": {
          "base_uri": "https://localhost:8080/"
        },
        "id": "N5vf0ElMeXXd",
        "outputId": "1348eb95-221c-4d5a-b145-fc4efa03b8f1"
      },
      "execution_count": null,
      "outputs": [
        {
          "output_type": "stream",
          "name": "stdout",
          "text": [
            "나이를 입력하세요: 38\n",
            "2\n"
          ]
        }
      ]
    },
    {
      "cell_type": "code",
      "source": [
        "plus = lambda x, y : x + y\n",
        "print(plus(34,54))"
      ],
      "metadata": {
        "colab": {
          "base_uri": "https://localhost:8080/"
        },
        "id": "yEuGWjlneiQ9",
        "outputId": "ca9a8620-8660-4d7f-dd49-fdf871dd0414"
      },
      "execution_count": null,
      "outputs": [
        {
          "output_type": "stream",
          "name": "stdout",
          "text": [
            "88\n"
          ]
        }
      ]
    },
    {
      "cell_type": "code",
      "source": [
        "def mean(a,b):\n",
        "  return (a + b) / 2\n",
        "\n",
        "print(mean(33,22))\n",
        "print(45 + mean(33,22))"
      ],
      "metadata": {
        "colab": {
          "base_uri": "https://localhost:8080/"
        },
        "id": "6JKVJM2WetoN",
        "outputId": "caa17bd2-07c2-4d95-ceea-ec25cff8a62d"
      },
      "execution_count": null,
      "outputs": [
        {
          "output_type": "stream",
          "name": "stdout",
          "text": [
            "27.5\n",
            "72.5\n"
          ]
        }
      ]
    },
    {
      "cell_type": "code",
      "source": [
        "b = [1,2,3,10,11,12]\n",
        "for i in b:\n",
        "  if i < 10:\n",
        "    print(i)\n",
        "  else:\n",
        "    print(i-10)"
      ],
      "metadata": {
        "colab": {
          "base_uri": "https://localhost:8080/"
        },
        "id": "-fPWe6CNfm5k",
        "outputId": "f917c73c-54e9-4635-c332-16d4ec22fc02"
      },
      "execution_count": null,
      "outputs": [
        {
          "output_type": "stream",
          "name": "stdout",
          "text": [
            "1\n",
            "2\n",
            "3\n",
            "0\n",
            "1\n",
            "2\n"
          ]
        }
      ]
    },
    {
      "cell_type": "code",
      "source": [],
      "metadata": {
        "id": "zCt5UhTW1Po-"
      },
      "execution_count": null,
      "outputs": []
    }
  ]
}
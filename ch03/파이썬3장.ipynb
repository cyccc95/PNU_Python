{
  "nbformat": 4,
  "nbformat_minor": 0,
  "metadata": {
    "colab": {
      "provenance": []
    },
    "kernelspec": {
      "name": "python3",
      "display_name": "Python 3"
    },
    "language_info": {
      "name": "python"
    }
  },
  "cells": [
    {
      "cell_type": "code",
      "execution_count": 1,
      "metadata": {
        "colab": {
          "base_uri": "https://localhost:8080/"
        },
        "id": "eGKbEQpL2q-a",
        "outputId": "57059cd4-7369-4b8f-a90b-6b4e629a9e37"
      },
      "outputs": [
        {
          "output_type": "stream",
          "name": "stdout",
          "text": [
            "\n",
            "1. 새로 만들기\n",
            "2. 메모 보기\n",
            "3. 메모 추가하기\n",
            "\n",
            "명령을 선택하세요(종료 : 0)>>1\n",
            "새로운 메모장을 생성합니다.\n",
            "메모 입력:안녕하세요.\n",
            "\n",
            "1. 새로 만들기\n",
            "2. 메모 보기\n",
            "3. 메모 추가하기\n",
            "\n",
            "명령을 선택하세요(종료 : 0)>>2\n",
            "메모장의 내용을 출력합니다.\n",
            "==========메모==========\n",
            "안녕하세요.\n",
            "========================\n",
            "\n",
            "1. 새로 만들기\n",
            "2. 메모 보기\n",
            "3. 메모 추가하기\n",
            "\n",
            "명령을 선택하세요(종료 : 0)>>3\n",
            "기존 메모장에 내용을 추가합니다.\n",
            "추가 사항 입력:추가된 내용입니다.\n",
            "\n",
            "1. 새로 만들기\n",
            "2. 메모 보기\n",
            "3. 메모 추가하기\n",
            "\n",
            "명령을 선택하세요(종료 : 0)>>2\n",
            "메모장의 내용을 출력합니다.\n",
            "==========메모==========\n",
            "안녕하세요.\n",
            "추가된 내용입니다.\n",
            "========================\n",
            "\n",
            "1. 새로 만들기\n",
            "2. 메모 보기\n",
            "3. 메모 추가하기\n",
            "\n",
            "명령을 선택하세요(종료 : 0)>>0\n",
            "프로그램을 종료합니다.\n"
          ]
        }
      ],
      "source": [
        "while True:\n",
        "  print('\\n1. 새로 만들기')\n",
        "  print('2. 메모 보기')\n",
        "  print('3. 메모 추가하기\\n')\n",
        "  i = int(input('명령을 선택하세요(종료 : 0)>>'))\n",
        "  if i==0:\n",
        "    print('프로그램을 종료합니다.')\n",
        "    break\n",
        "  if i==1:\n",
        "    print('새로운 메모장을 생성합니다.')\n",
        "    f = open('test.txt', 'w')\n",
        "    str = input('메모 입력:')\n",
        "    f.write(str)\n",
        "    f.close()\n",
        "  if i==2:\n",
        "    print('메모장의 내용을 출력합니다.')\n",
        "    f = open('test.txt', 'r')\n",
        "    print('==========메모==========')\n",
        "    print(f.read())\n",
        "    print('========================')    \n",
        "    f.close()\n",
        "  if i==3:\n",
        "    print('기존 메모장에 내용을 추가합니다.')\n",
        "    str = input('추가 사항 입력:')\n",
        "    f = open('test.txt', 'a')\n",
        "    f.write('\\n' + str)\n",
        "    f.close()"
      ]
    }
  ]
}
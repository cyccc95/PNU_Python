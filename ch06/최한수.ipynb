{
  "nbformat": 4,
  "nbformat_minor": 0,
  "metadata": {
    "colab": {
      "provenance": []
    },
    "kernelspec": {
      "name": "python3",
      "display_name": "Python 3"
    },
    "language_info": {
      "name": "python"
    }
  },
  "cells": [
    {
      "cell_type": "code",
      "execution_count": null,
      "metadata": {
        "id": "Os8z5bqDWt9C"
      },
      "outputs": [],
      "source": [
        "import usecsv\n",
        "import re\n",
        "import urllib.request as ur\n",
        "from bs4 import BeautifulSoup as bs\n",
        "import pandas as pd\n",
        "import seaborn as sns\n",
        "\n",
        "url = 'https://jumin.mois.go.kr/ageStatMonth.do'\n",
        "soup = bs(ur.urlopen(url).read(), 'html.parser')\n",
        "tr_list = soup.select('#contextTable > tbody > tr')\n",
        "\n",
        "pop_info = [['행정기관','총 인구수','0-9세','10-19세','20-29세','30-39세','40-49세','50-59세','60-69세','70-79세','80-89세','90-99세','100세 이상']]\n",
        "\n",
        "for tr in tr_list:\n",
        "  td = tr.find_all('td')\n",
        "  pop_info.append([td[1].text, td[2].text.replace(',',''), td[4].text.replace(',',''), td[5].text.replace(',',''), td[6].text.replace(',',''), td[7].text.replace(',',''), td[8].text.replace(',',''), td[9].text.replace(',',''), td[10].text.replace(',',''), td[11].text.replace(',',''), td[12].text.replace(',',''), td[13].text.replace(',',''), td[14].text.replace(',','')])\n",
        "\n",
        "usecsv.writecsv('pop_info.csv', pop_info)\n",
        "\n",
        "df = pd.read_csv('pop_info.csv', encoding='utf8')\n",
        "df.head(18)"
      ]
    },
    {
      "cell_type": "code",
      "source": [
        "import matplotlib.pyplot as plt\n",
        "import matplotlib.font_manager as fm\n",
        "plt.rc('font', family='NanumGothic')\n",
        "\n",
        "# 행정기관별 총 인구수\n",
        "plt.figure(figsize=(10,5))\n",
        "plt.title('행정기관별 총 인구수')\n",
        "plt.xticks(rotation = -45)\n",
        "sns.barplot(data=df, x='행정기관', y='총 인구수')\n",
        "plt.ylabel('총 인구수(천만)')\n",
        "plt.show()"
      ],
      "metadata": {
        "id": "z-RcZDsafnUT"
      },
      "execution_count": null,
      "outputs": []
    },
    {
      "cell_type": "code",
      "source": [
        "import matplotlib.pyplot as plt\n",
        "import matplotlib.font_manager as fm\n",
        "plt.rc('font', family='NanumGothic')\n",
        "\n",
        "# 행정기관별 10대 인구수\n",
        "plt.figure(figsize=(10,5))\n",
        "plt.title('행정기관별 10대 인구수')\n",
        "plt.xticks(rotation = -45)\n",
        "sns.barplot(data=df, x='행정기관', y='10-19세')\n",
        "plt.ylabel('10-19세(백만)')\n",
        "plt.show()\n"
      ],
      "metadata": {
        "id": "cVom3nlqvqjy"
      },
      "execution_count": null,
      "outputs": []
    }
  ]
}